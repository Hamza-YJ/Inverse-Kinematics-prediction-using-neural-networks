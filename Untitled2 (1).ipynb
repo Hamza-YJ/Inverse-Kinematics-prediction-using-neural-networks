{
  "nbformat": 4,
  "nbformat_minor": 0,
  "metadata": {
    "colab": {
      "name": "Untitled2.ipynb",
      "provenance": []
    },
    "kernelspec": {
      "name": "python3",
      "display_name": "Python 3"
    },
    "language_info": {
      "name": "python"
    }
  },
  "cells": [
    {
      "cell_type": "markdown",
      "source": [
        "\n",
        "##In this project we will be using the previously generated dataset for a 2DOF Cartesian robot arm to train a small model to be able to do inverse kinematics meaning that we will give the model the desired final orientation for the robot arm and we will get the angles for each motor predicted\n"
      ],
      "metadata": {
        "id": "nRc7nP2fg2w2"
      }
    },
    {
      "cell_type": "markdown",
      "source": [
        "Importing the required packages"
      ],
      "metadata": {
        "id": "7qtEPzUKfupU"
      }
    },
    {
      "cell_type": "code",
      "execution_count": 5,
      "metadata": {
        "id": "XQDlYOaRbnog"
      },
      "outputs": [],
      "source": [
        "import numpy as np\n",
        "import pandas as pd\n",
        "import sklearn \n",
        "import keras\n",
        "from sklearn.model_selection import train_test_split\n",
        "from keras.models import Sequential\n",
        "from keras.layers import Activation\n",
        "from keras.layers.core import Dense\n",
        "from keras.metrics import categorical_crossentropy\n",
        "from sklearn.model_selection import GridSearchCV\n",
        "from tensorflow.keras.optimizers import Adam\n",
        "from sklearn.datasets import make_regression"
      ]
    },
    {
      "cell_type": "markdown",
      "source": [
        "Uploading the previously created dataset\n"
      ],
      "metadata": {
        "id": "q8lhg81EfSfz"
      }
    },
    {
      "cell_type": "code",
      "source": [
        "from google.colab import files\n",
        "uploaded = files.upload()"
      ],
      "metadata": {
        "colab": {
          "resources": {
            "http://localhost:8080/nbextensions/google.colab/files.js": {
              "data": "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",
              "ok": true,
              "headers": [
                [
                  "content-type",
                  "application/javascript"
                ]
              ],
              "status": 200,
              "status_text": ""
            }
          },
          "base_uri": "https://localhost:8080/",
          "height": 73
        },
        "id": "ozYKgDtnf8iv",
        "outputId": "aab2a77a-427a-4f08-e53e-b4cf27cc7bee"
      },
      "execution_count": 7,
      "outputs": [
        {
          "output_type": "display_data",
          "data": {
            "text/html": [
              "\n",
              "     <input type=\"file\" id=\"files-c52780a1-462b-410f-a7c2-c1ced4eb5664\" name=\"files[]\" multiple disabled\n",
              "        style=\"border:none\" />\n",
              "     <output id=\"result-c52780a1-462b-410f-a7c2-c1ced4eb5664\">\n",
              "      Upload widget is only available when the cell has been executed in the\n",
              "      current browser session. Please rerun this cell to enable.\n",
              "      </output>\n",
              "      <script src=\"/nbextensions/google.colab/files.js\"></script> "
            ],
            "text/plain": [
              "<IPython.core.display.HTML object>"
            ]
          },
          "metadata": {}
        },
        {
          "output_type": "stream",
          "name": "stdout",
          "text": [
            "Saving largerdata.csv to largerdata.csv\n"
          ]
        }
      ]
    },
    {
      "cell_type": "code",
      "source": [
        "data = pd.read_csv(r\"largerdata.csv\")\n",
        "data.head(10)\n"
      ],
      "metadata": {
        "colab": {
          "base_uri": "https://localhost:8080/",
          "height": 363
        },
        "id": "mPXcJqMbgCej",
        "outputId": "75aeea90-4859-4842-a004-b0d16e9004f4"
      },
      "execution_count": 9,
      "outputs": [
        {
          "output_type": "execute_result",
          "data": {
            "text/html": [
              "\n",
              "  <div id=\"df-ac396307-0ab4-42a4-a4bf-937cf3996016\">\n",
              "    <div class=\"colab-df-container\">\n",
              "      <div>\n",
              "<style scoped>\n",
              "    .dataframe tbody tr th:only-of-type {\n",
              "        vertical-align: middle;\n",
              "    }\n",
              "\n",
              "    .dataframe tbody tr th {\n",
              "        vertical-align: top;\n",
              "    }\n",
              "\n",
              "    .dataframe thead th {\n",
              "        text-align: right;\n",
              "    }\n",
              "</style>\n",
              "<table border=\"1\" class=\"dataframe\">\n",
              "  <thead>\n",
              "    <tr style=\"text-align: right;\">\n",
              "      <th></th>\n",
              "      <th>0</th>\n",
              "      <th>0.1</th>\n",
              "      <th>10.0</th>\n",
              "      <th>0.0</th>\n",
              "    </tr>\n",
              "  </thead>\n",
              "  <tbody>\n",
              "    <tr>\n",
              "      <th>0</th>\n",
              "      <td>0.0</td>\n",
              "      <td>3.0</td>\n",
              "      <td>9.993148</td>\n",
              "      <td>0.261680</td>\n",
              "    </tr>\n",
              "    <tr>\n",
              "      <th>1</th>\n",
              "      <td>0.0</td>\n",
              "      <td>5.0</td>\n",
              "      <td>9.980973</td>\n",
              "      <td>0.435779</td>\n",
              "    </tr>\n",
              "    <tr>\n",
              "      <th>2</th>\n",
              "      <td>0.0</td>\n",
              "      <td>7.0</td>\n",
              "      <td>9.962731</td>\n",
              "      <td>0.609347</td>\n",
              "    </tr>\n",
              "    <tr>\n",
              "      <th>3</th>\n",
              "      <td>0.0</td>\n",
              "      <td>10.0</td>\n",
              "      <td>9.924039</td>\n",
              "      <td>0.868241</td>\n",
              "    </tr>\n",
              "    <tr>\n",
              "      <th>4</th>\n",
              "      <td>0.0</td>\n",
              "      <td>12.0</td>\n",
              "      <td>9.890738</td>\n",
              "      <td>1.039558</td>\n",
              "    </tr>\n",
              "    <tr>\n",
              "      <th>5</th>\n",
              "      <td>0.0</td>\n",
              "      <td>15.0</td>\n",
              "      <td>9.829629</td>\n",
              "      <td>1.294095</td>\n",
              "    </tr>\n",
              "    <tr>\n",
              "      <th>6</th>\n",
              "      <td>0.0</td>\n",
              "      <td>18.0</td>\n",
              "      <td>9.755283</td>\n",
              "      <td>1.545085</td>\n",
              "    </tr>\n",
              "    <tr>\n",
              "      <th>7</th>\n",
              "      <td>0.0</td>\n",
              "      <td>20.0</td>\n",
              "      <td>9.698463</td>\n",
              "      <td>1.710101</td>\n",
              "    </tr>\n",
              "    <tr>\n",
              "      <th>8</th>\n",
              "      <td>0.0</td>\n",
              "      <td>23.0</td>\n",
              "      <td>9.602524</td>\n",
              "      <td>1.953656</td>\n",
              "    </tr>\n",
              "    <tr>\n",
              "      <th>9</th>\n",
              "      <td>0.0</td>\n",
              "      <td>25.0</td>\n",
              "      <td>9.531539</td>\n",
              "      <td>2.113091</td>\n",
              "    </tr>\n",
              "  </tbody>\n",
              "</table>\n",
              "</div>\n",
              "      <button class=\"colab-df-convert\" onclick=\"convertToInteractive('df-ac396307-0ab4-42a4-a4bf-937cf3996016')\"\n",
              "              title=\"Convert this dataframe to an interactive table.\"\n",
              "              style=\"display:none;\">\n",
              "        \n",
              "  <svg xmlns=\"http://www.w3.org/2000/svg\" height=\"24px\"viewBox=\"0 0 24 24\"\n",
              "       width=\"24px\">\n",
              "    <path d=\"M0 0h24v24H0V0z\" fill=\"none\"/>\n",
              "    <path d=\"M18.56 5.44l.94 2.06.94-2.06 2.06-.94-2.06-.94-.94-2.06-.94 2.06-2.06.94zm-11 1L8.5 8.5l.94-2.06 2.06-.94-2.06-.94L8.5 2.5l-.94 2.06-2.06.94zm10 10l.94 2.06.94-2.06 2.06-.94-2.06-.94-.94-2.06-.94 2.06-2.06.94z\"/><path d=\"M17.41 7.96l-1.37-1.37c-.4-.4-.92-.59-1.43-.59-.52 0-1.04.2-1.43.59L10.3 9.45l-7.72 7.72c-.78.78-.78 2.05 0 2.83L4 21.41c.39.39.9.59 1.41.59.51 0 1.02-.2 1.41-.59l7.78-7.78 2.81-2.81c.8-.78.8-2.07 0-2.86zM5.41 20L4 18.59l7.72-7.72 1.47 1.35L5.41 20z\"/>\n",
              "  </svg>\n",
              "      </button>\n",
              "      \n",
              "  <style>\n",
              "    .colab-df-container {\n",
              "      display:flex;\n",
              "      flex-wrap:wrap;\n",
              "      gap: 12px;\n",
              "    }\n",
              "\n",
              "    .colab-df-convert {\n",
              "      background-color: #E8F0FE;\n",
              "      border: none;\n",
              "      border-radius: 50%;\n",
              "      cursor: pointer;\n",
              "      display: none;\n",
              "      fill: #1967D2;\n",
              "      height: 32px;\n",
              "      padding: 0 0 0 0;\n",
              "      width: 32px;\n",
              "    }\n",
              "\n",
              "    .colab-df-convert:hover {\n",
              "      background-color: #E2EBFA;\n",
              "      box-shadow: 0px 1px 2px rgba(60, 64, 67, 0.3), 0px 1px 3px 1px rgba(60, 64, 67, 0.15);\n",
              "      fill: #174EA6;\n",
              "    }\n",
              "\n",
              "    [theme=dark] .colab-df-convert {\n",
              "      background-color: #3B4455;\n",
              "      fill: #D2E3FC;\n",
              "    }\n",
              "\n",
              "    [theme=dark] .colab-df-convert:hover {\n",
              "      background-color: #434B5C;\n",
              "      box-shadow: 0px 1px 3px 1px rgba(0, 0, 0, 0.15);\n",
              "      filter: drop-shadow(0px 1px 2px rgba(0, 0, 0, 0.3));\n",
              "      fill: #FFFFFF;\n",
              "    }\n",
              "  </style>\n",
              "\n",
              "      <script>\n",
              "        const buttonEl =\n",
              "          document.querySelector('#df-ac396307-0ab4-42a4-a4bf-937cf3996016 button.colab-df-convert');\n",
              "        buttonEl.style.display =\n",
              "          google.colab.kernel.accessAllowed ? 'block' : 'none';\n",
              "\n",
              "        async function convertToInteractive(key) {\n",
              "          const element = document.querySelector('#df-ac396307-0ab4-42a4-a4bf-937cf3996016');\n",
              "          const dataTable =\n",
              "            await google.colab.kernel.invokeFunction('convertToInteractive',\n",
              "                                                     [key], {});\n",
              "          if (!dataTable) return;\n",
              "\n",
              "          const docLinkHtml = 'Like what you see? Visit the ' +\n",
              "            '<a target=\"_blank\" href=https://colab.research.google.com/notebooks/data_table.ipynb>data table notebook</a>'\n",
              "            + ' to learn more about interactive tables.';\n",
              "          element.innerHTML = '';\n",
              "          dataTable['output_type'] = 'display_data';\n",
              "          await google.colab.output.renderOutput(dataTable, element);\n",
              "          const docLink = document.createElement('div');\n",
              "          docLink.innerHTML = docLinkHtml;\n",
              "          element.appendChild(docLink);\n",
              "        }\n",
              "      </script>\n",
              "    </div>\n",
              "  </div>\n",
              "  "
            ],
            "text/plain": [
              "     0   0.1      10.0       0.0\n",
              "0  0.0   3.0  9.993148  0.261680\n",
              "1  0.0   5.0  9.980973  0.435779\n",
              "2  0.0   7.0  9.962731  0.609347\n",
              "3  0.0  10.0  9.924039  0.868241\n",
              "4  0.0  12.0  9.890738  1.039558\n",
              "5  0.0  15.0  9.829629  1.294095\n",
              "6  0.0  18.0  9.755283  1.545085\n",
              "7  0.0  20.0  9.698463  1.710101\n",
              "8  0.0  23.0  9.602524  1.953656\n",
              "9  0.0  25.0  9.531539  2.113091"
            ]
          },
          "metadata": {},
          "execution_count": 9
        }
      ]
    },
    {
      "cell_type": "markdown",
      "source": [
        "Getting the labels"
      ],
      "metadata": {
        "id": "_BjyirtYgCXT"
      }
    },
    {
      "cell_type": "code",
      "source": [
        "y = data.iloc[:, 0:2]\n",
        "y.head(10)"
      ],
      "metadata": {
        "colab": {
          "base_uri": "https://localhost:8080/",
          "height": 363
        },
        "id": "JU2u1P2Wf9j-",
        "outputId": "b4d39cdc-31fe-40e2-b2b2-9b1f7f5a3470"
      },
      "execution_count": 10,
      "outputs": [
        {
          "output_type": "execute_result",
          "data": {
            "text/html": [
              "\n",
              "  <div id=\"df-0764743c-0313-4dd4-ad75-746e341bdc41\">\n",
              "    <div class=\"colab-df-container\">\n",
              "      <div>\n",
              "<style scoped>\n",
              "    .dataframe tbody tr th:only-of-type {\n",
              "        vertical-align: middle;\n",
              "    }\n",
              "\n",
              "    .dataframe tbody tr th {\n",
              "        vertical-align: top;\n",
              "    }\n",
              "\n",
              "    .dataframe thead th {\n",
              "        text-align: right;\n",
              "    }\n",
              "</style>\n",
              "<table border=\"1\" class=\"dataframe\">\n",
              "  <thead>\n",
              "    <tr style=\"text-align: right;\">\n",
              "      <th></th>\n",
              "      <th>0</th>\n",
              "      <th>0.1</th>\n",
              "    </tr>\n",
              "  </thead>\n",
              "  <tbody>\n",
              "    <tr>\n",
              "      <th>0</th>\n",
              "      <td>0.0</td>\n",
              "      <td>3.0</td>\n",
              "    </tr>\n",
              "    <tr>\n",
              "      <th>1</th>\n",
              "      <td>0.0</td>\n",
              "      <td>5.0</td>\n",
              "    </tr>\n",
              "    <tr>\n",
              "      <th>2</th>\n",
              "      <td>0.0</td>\n",
              "      <td>7.0</td>\n",
              "    </tr>\n",
              "    <tr>\n",
              "      <th>3</th>\n",
              "      <td>0.0</td>\n",
              "      <td>10.0</td>\n",
              "    </tr>\n",
              "    <tr>\n",
              "      <th>4</th>\n",
              "      <td>0.0</td>\n",
              "      <td>12.0</td>\n",
              "    </tr>\n",
              "    <tr>\n",
              "      <th>5</th>\n",
              "      <td>0.0</td>\n",
              "      <td>15.0</td>\n",
              "    </tr>\n",
              "    <tr>\n",
              "      <th>6</th>\n",
              "      <td>0.0</td>\n",
              "      <td>18.0</td>\n",
              "    </tr>\n",
              "    <tr>\n",
              "      <th>7</th>\n",
              "      <td>0.0</td>\n",
              "      <td>20.0</td>\n",
              "    </tr>\n",
              "    <tr>\n",
              "      <th>8</th>\n",
              "      <td>0.0</td>\n",
              "      <td>23.0</td>\n",
              "    </tr>\n",
              "    <tr>\n",
              "      <th>9</th>\n",
              "      <td>0.0</td>\n",
              "      <td>25.0</td>\n",
              "    </tr>\n",
              "  </tbody>\n",
              "</table>\n",
              "</div>\n",
              "      <button class=\"colab-df-convert\" onclick=\"convertToInteractive('df-0764743c-0313-4dd4-ad75-746e341bdc41')\"\n",
              "              title=\"Convert this dataframe to an interactive table.\"\n",
              "              style=\"display:none;\">\n",
              "        \n",
              "  <svg xmlns=\"http://www.w3.org/2000/svg\" height=\"24px\"viewBox=\"0 0 24 24\"\n",
              "       width=\"24px\">\n",
              "    <path d=\"M0 0h24v24H0V0z\" fill=\"none\"/>\n",
              "    <path d=\"M18.56 5.44l.94 2.06.94-2.06 2.06-.94-2.06-.94-.94-2.06-.94 2.06-2.06.94zm-11 1L8.5 8.5l.94-2.06 2.06-.94-2.06-.94L8.5 2.5l-.94 2.06-2.06.94zm10 10l.94 2.06.94-2.06 2.06-.94-2.06-.94-.94-2.06-.94 2.06-2.06.94z\"/><path d=\"M17.41 7.96l-1.37-1.37c-.4-.4-.92-.59-1.43-.59-.52 0-1.04.2-1.43.59L10.3 9.45l-7.72 7.72c-.78.78-.78 2.05 0 2.83L4 21.41c.39.39.9.59 1.41.59.51 0 1.02-.2 1.41-.59l7.78-7.78 2.81-2.81c.8-.78.8-2.07 0-2.86zM5.41 20L4 18.59l7.72-7.72 1.47 1.35L5.41 20z\"/>\n",
              "  </svg>\n",
              "      </button>\n",
              "      \n",
              "  <style>\n",
              "    .colab-df-container {\n",
              "      display:flex;\n",
              "      flex-wrap:wrap;\n",
              "      gap: 12px;\n",
              "    }\n",
              "\n",
              "    .colab-df-convert {\n",
              "      background-color: #E8F0FE;\n",
              "      border: none;\n",
              "      border-radius: 50%;\n",
              "      cursor: pointer;\n",
              "      display: none;\n",
              "      fill: #1967D2;\n",
              "      height: 32px;\n",
              "      padding: 0 0 0 0;\n",
              "      width: 32px;\n",
              "    }\n",
              "\n",
              "    .colab-df-convert:hover {\n",
              "      background-color: #E2EBFA;\n",
              "      box-shadow: 0px 1px 2px rgba(60, 64, 67, 0.3), 0px 1px 3px 1px rgba(60, 64, 67, 0.15);\n",
              "      fill: #174EA6;\n",
              "    }\n",
              "\n",
              "    [theme=dark] .colab-df-convert {\n",
              "      background-color: #3B4455;\n",
              "      fill: #D2E3FC;\n",
              "    }\n",
              "\n",
              "    [theme=dark] .colab-df-convert:hover {\n",
              "      background-color: #434B5C;\n",
              "      box-shadow: 0px 1px 3px 1px rgba(0, 0, 0, 0.15);\n",
              "      filter: drop-shadow(0px 1px 2px rgba(0, 0, 0, 0.3));\n",
              "      fill: #FFFFFF;\n",
              "    }\n",
              "  </style>\n",
              "\n",
              "      <script>\n",
              "        const buttonEl =\n",
              "          document.querySelector('#df-0764743c-0313-4dd4-ad75-746e341bdc41 button.colab-df-convert');\n",
              "        buttonEl.style.display =\n",
              "          google.colab.kernel.accessAllowed ? 'block' : 'none';\n",
              "\n",
              "        async function convertToInteractive(key) {\n",
              "          const element = document.querySelector('#df-0764743c-0313-4dd4-ad75-746e341bdc41');\n",
              "          const dataTable =\n",
              "            await google.colab.kernel.invokeFunction('convertToInteractive',\n",
              "                                                     [key], {});\n",
              "          if (!dataTable) return;\n",
              "\n",
              "          const docLinkHtml = 'Like what you see? Visit the ' +\n",
              "            '<a target=\"_blank\" href=https://colab.research.google.com/notebooks/data_table.ipynb>data table notebook</a>'\n",
              "            + ' to learn more about interactive tables.';\n",
              "          element.innerHTML = '';\n",
              "          dataTable['output_type'] = 'display_data';\n",
              "          await google.colab.output.renderOutput(dataTable, element);\n",
              "          const docLink = document.createElement('div');\n",
              "          docLink.innerHTML = docLinkHtml;\n",
              "          element.appendChild(docLink);\n",
              "        }\n",
              "      </script>\n",
              "    </div>\n",
              "  </div>\n",
              "  "
            ],
            "text/plain": [
              "     0   0.1\n",
              "0  0.0   3.0\n",
              "1  0.0   5.0\n",
              "2  0.0   7.0\n",
              "3  0.0  10.0\n",
              "4  0.0  12.0\n",
              "5  0.0  15.0\n",
              "6  0.0  18.0\n",
              "7  0.0  20.0\n",
              "8  0.0  23.0\n",
              "9  0.0  25.0"
            ]
          },
          "metadata": {},
          "execution_count": 10
        }
      ]
    },
    {
      "cell_type": "code",
      "source": [
        "x = data.iloc[:, 2:4]\n",
        "print(x.dtypes)\n",
        "x.head(10)"
      ],
      "metadata": {
        "colab": {
          "base_uri": "https://localhost:8080/",
          "height": 417
        },
        "id": "drbQ69C2gRPB",
        "outputId": "d69f3d08-716f-495f-cbf4-3f67883bedd9"
      },
      "execution_count": 11,
      "outputs": [
        {
          "output_type": "stream",
          "name": "stdout",
          "text": [
            "10.0    float64\n",
            "0.0     float64\n",
            "dtype: object\n"
          ]
        },
        {
          "output_type": "execute_result",
          "data": {
            "text/html": [
              "\n",
              "  <div id=\"df-12b0ee11-36c8-4585-bd99-1a2d57a85d78\">\n",
              "    <div class=\"colab-df-container\">\n",
              "      <div>\n",
              "<style scoped>\n",
              "    .dataframe tbody tr th:only-of-type {\n",
              "        vertical-align: middle;\n",
              "    }\n",
              "\n",
              "    .dataframe tbody tr th {\n",
              "        vertical-align: top;\n",
              "    }\n",
              "\n",
              "    .dataframe thead th {\n",
              "        text-align: right;\n",
              "    }\n",
              "</style>\n",
              "<table border=\"1\" class=\"dataframe\">\n",
              "  <thead>\n",
              "    <tr style=\"text-align: right;\">\n",
              "      <th></th>\n",
              "      <th>10.0</th>\n",
              "      <th>0.0</th>\n",
              "    </tr>\n",
              "  </thead>\n",
              "  <tbody>\n",
              "    <tr>\n",
              "      <th>0</th>\n",
              "      <td>9.993148</td>\n",
              "      <td>0.261680</td>\n",
              "    </tr>\n",
              "    <tr>\n",
              "      <th>1</th>\n",
              "      <td>9.980973</td>\n",
              "      <td>0.435779</td>\n",
              "    </tr>\n",
              "    <tr>\n",
              "      <th>2</th>\n",
              "      <td>9.962731</td>\n",
              "      <td>0.609347</td>\n",
              "    </tr>\n",
              "    <tr>\n",
              "      <th>3</th>\n",
              "      <td>9.924039</td>\n",
              "      <td>0.868241</td>\n",
              "    </tr>\n",
              "    <tr>\n",
              "      <th>4</th>\n",
              "      <td>9.890738</td>\n",
              "      <td>1.039558</td>\n",
              "    </tr>\n",
              "    <tr>\n",
              "      <th>5</th>\n",
              "      <td>9.829629</td>\n",
              "      <td>1.294095</td>\n",
              "    </tr>\n",
              "    <tr>\n",
              "      <th>6</th>\n",
              "      <td>9.755283</td>\n",
              "      <td>1.545085</td>\n",
              "    </tr>\n",
              "    <tr>\n",
              "      <th>7</th>\n",
              "      <td>9.698463</td>\n",
              "      <td>1.710101</td>\n",
              "    </tr>\n",
              "    <tr>\n",
              "      <th>8</th>\n",
              "      <td>9.602524</td>\n",
              "      <td>1.953656</td>\n",
              "    </tr>\n",
              "    <tr>\n",
              "      <th>9</th>\n",
              "      <td>9.531539</td>\n",
              "      <td>2.113091</td>\n",
              "    </tr>\n",
              "  </tbody>\n",
              "</table>\n",
              "</div>\n",
              "      <button class=\"colab-df-convert\" onclick=\"convertToInteractive('df-12b0ee11-36c8-4585-bd99-1a2d57a85d78')\"\n",
              "              title=\"Convert this dataframe to an interactive table.\"\n",
              "              style=\"display:none;\">\n",
              "        \n",
              "  <svg xmlns=\"http://www.w3.org/2000/svg\" height=\"24px\"viewBox=\"0 0 24 24\"\n",
              "       width=\"24px\">\n",
              "    <path d=\"M0 0h24v24H0V0z\" fill=\"none\"/>\n",
              "    <path d=\"M18.56 5.44l.94 2.06.94-2.06 2.06-.94-2.06-.94-.94-2.06-.94 2.06-2.06.94zm-11 1L8.5 8.5l.94-2.06 2.06-.94-2.06-.94L8.5 2.5l-.94 2.06-2.06.94zm10 10l.94 2.06.94-2.06 2.06-.94-2.06-.94-.94-2.06-.94 2.06-2.06.94z\"/><path d=\"M17.41 7.96l-1.37-1.37c-.4-.4-.92-.59-1.43-.59-.52 0-1.04.2-1.43.59L10.3 9.45l-7.72 7.72c-.78.78-.78 2.05 0 2.83L4 21.41c.39.39.9.59 1.41.59.51 0 1.02-.2 1.41-.59l7.78-7.78 2.81-2.81c.8-.78.8-2.07 0-2.86zM5.41 20L4 18.59l7.72-7.72 1.47 1.35L5.41 20z\"/>\n",
              "  </svg>\n",
              "      </button>\n",
              "      \n",
              "  <style>\n",
              "    .colab-df-container {\n",
              "      display:flex;\n",
              "      flex-wrap:wrap;\n",
              "      gap: 12px;\n",
              "    }\n",
              "\n",
              "    .colab-df-convert {\n",
              "      background-color: #E8F0FE;\n",
              "      border: none;\n",
              "      border-radius: 50%;\n",
              "      cursor: pointer;\n",
              "      display: none;\n",
              "      fill: #1967D2;\n",
              "      height: 32px;\n",
              "      padding: 0 0 0 0;\n",
              "      width: 32px;\n",
              "    }\n",
              "\n",
              "    .colab-df-convert:hover {\n",
              "      background-color: #E2EBFA;\n",
              "      box-shadow: 0px 1px 2px rgba(60, 64, 67, 0.3), 0px 1px 3px 1px rgba(60, 64, 67, 0.15);\n",
              "      fill: #174EA6;\n",
              "    }\n",
              "\n",
              "    [theme=dark] .colab-df-convert {\n",
              "      background-color: #3B4455;\n",
              "      fill: #D2E3FC;\n",
              "    }\n",
              "\n",
              "    [theme=dark] .colab-df-convert:hover {\n",
              "      background-color: #434B5C;\n",
              "      box-shadow: 0px 1px 3px 1px rgba(0, 0, 0, 0.15);\n",
              "      filter: drop-shadow(0px 1px 2px rgba(0, 0, 0, 0.3));\n",
              "      fill: #FFFFFF;\n",
              "    }\n",
              "  </style>\n",
              "\n",
              "      <script>\n",
              "        const buttonEl =\n",
              "          document.querySelector('#df-12b0ee11-36c8-4585-bd99-1a2d57a85d78 button.colab-df-convert');\n",
              "        buttonEl.style.display =\n",
              "          google.colab.kernel.accessAllowed ? 'block' : 'none';\n",
              "\n",
              "        async function convertToInteractive(key) {\n",
              "          const element = document.querySelector('#df-12b0ee11-36c8-4585-bd99-1a2d57a85d78');\n",
              "          const dataTable =\n",
              "            await google.colab.kernel.invokeFunction('convertToInteractive',\n",
              "                                                     [key], {});\n",
              "          if (!dataTable) return;\n",
              "\n",
              "          const docLinkHtml = 'Like what you see? Visit the ' +\n",
              "            '<a target=\"_blank\" href=https://colab.research.google.com/notebooks/data_table.ipynb>data table notebook</a>'\n",
              "            + ' to learn more about interactive tables.';\n",
              "          element.innerHTML = '';\n",
              "          dataTable['output_type'] = 'display_data';\n",
              "          await google.colab.output.renderOutput(dataTable, element);\n",
              "          const docLink = document.createElement('div');\n",
              "          docLink.innerHTML = docLinkHtml;\n",
              "          element.appendChild(docLink);\n",
              "        }\n",
              "      </script>\n",
              "    </div>\n",
              "  </div>\n",
              "  "
            ],
            "text/plain": [
              "       10.0       0.0\n",
              "0  9.993148  0.261680\n",
              "1  9.980973  0.435779\n",
              "2  9.962731  0.609347\n",
              "3  9.924039  0.868241\n",
              "4  9.890738  1.039558\n",
              "5  9.829629  1.294095\n",
              "6  9.755283  1.545085\n",
              "7  9.698463  1.710101\n",
              "8  9.602524  1.953656\n",
              "9  9.531539  2.113091"
            ]
          },
          "metadata": {},
          "execution_count": 11
        }
      ]
    },
    {
      "cell_type": "code",
      "source": [
        "#splitting it\n",
        "train_x, test_x, train_y, test_y = train_test_split(x, y, test_size = 0.2)"
      ],
      "metadata": {
        "id": "btII5E9KgTzd"
      },
      "execution_count": 12,
      "outputs": []
    },
    {
      "cell_type": "code",
      "source": [
        "print(\"Train data: \", train_x)\n",
        "print(\"Train data_Y: \", train_y)\n",
        "\n",
        "print(\"Test data: \", test_x)\n",
        "print(\"Test data_y: \", test_y)"
      ],
      "metadata": {
        "colab": {
          "base_uri": "https://localhost:8080/"
        },
        "id": "fIkHXOrlgVgT",
        "outputId": "2d2672af-fcee-4a2c-99b9-15ae56ae63cc"
      },
      "execution_count": 13,
      "outputs": [
        {
          "output_type": "stream",
          "name": "stdout",
          "text": [
            "Train data:            10.0       0.0\n",
            "1683 -0.630699  8.013788\n",
            "1621 -1.587150  6.365713\n",
            "3926 -6.365320 -0.894587\n",
            "2397 -3.394444  8.194912\n",
            "1232  5.690452  7.977719\n",
            "...        ...       ...\n",
            "4354 -6.724985 -2.185080\n",
            "1034  2.801665  7.697511\n",
            "423  -0.090235  1.475337\n",
            "3146 -4.210101  0.368336\n",
            "357  -0.027302  0.172375\n",
            "\n",
            "[4146 rows x 2 columns]\n",
            "Train data_Y:            0    0.1\n",
            "1683   58.0   73.0\n",
            "1621   55.0   98.0\n",
            "3926  138.0  100.0\n",
            "2397   85.0   55.0\n",
            "1232   43.0   23.0\n",
            "...     ...    ...\n",
            "4354  153.0   90.0\n",
            "1034   35.0   70.0\n",
            "423    12.0  163.0\n",
            "3146  110.0  130.0\n",
            "357    10.0  178.0\n",
            "\n",
            "[4146 rows x 2 columns]\n",
            "Test data:            10.0       0.0\n",
            "4926 -6.424589 -4.172177\n",
            "3487 -7.217165  2.001497\n",
            "3359 -4.771406  0.041639\n",
            "3061 -6.039055  2.563427\n",
            "2106 -1.429100  9.022982\n",
            "...        ...       ...\n",
            "3551 -7.843763  3.605240\n",
            "1791 -1.166816  0.907361\n",
            "4479 -9.391202  0.327948\n",
            "1804  3.237847  9.403389\n",
            "195   1.265249  3.781432\n",
            "\n",
            "[1037 rows x 2 columns]\n",
            "Test data_y:             0     0.1\n",
            "4926  173.00   80.00\n",
            "3487  123.00   83.00\n",
            "3359  118.00  123.00\n",
            "3061  108.00   98.00\n",
            "2106   75.00   48.00\n",
            "...      ...     ...\n",
            "3551  125.00   60.63\n",
            "1791   60.63  163.00\n",
            "4479  158.00   40.00\n",
            "1804   65.00   12.00\n",
            "195     5.00  133.00\n",
            "\n",
            "[1037 rows x 2 columns]\n"
          ]
        }
      ]
    },
    {
      "cell_type": "markdown",
      "source": [
        "converting to numpy array"
      ],
      "metadata": {
        "id": "FJUjoXhAgZvq"
      }
    },
    {
      "cell_type": "code",
      "source": [
        "train_x = np.array(train_x)\n",
        "train_y = np.array(train_y)\n",
        "test_x = np.array(test_x)\n",
        "test_y = np.array(test_y)\n",
        "\n",
        "train_y.shape"
      ],
      "metadata": {
        "colab": {
          "base_uri": "https://localhost:8080/"
        },
        "id": "JEdxNc3BgXSe",
        "outputId": "ae0347f3-e7e8-4f03-ccf8-e482f4851058"
      },
      "execution_count": 14,
      "outputs": [
        {
          "output_type": "execute_result",
          "data": {
            "text/plain": [
              "(4146, 2)"
            ]
          },
          "metadata": {},
          "execution_count": 14
        }
      ]
    },
    {
      "cell_type": "markdown",
      "source": [
        "creating our model"
      ],
      "metadata": {
        "id": "1f2zOaa3gets"
      }
    },
    {
      "cell_type": "code",
      "source": [
        "model = Sequential()\n",
        "model.add(Dense(256, input_shape=(2,), activation='relu'))\n",
        "model.add(Dense(128))\n",
        "model.add(Dense(128))\n",
        "model.add(Dense(2,activation =\"relu\"))"
      ],
      "metadata": {
        "id": "MMaQhp6Ngdhr"
      },
      "execution_count": 16,
      "outputs": []
    },
    {
      "cell_type": "markdown",
      "source": [
        "compiling and fitting"
      ],
      "metadata": {
        "id": "Vno6xYcDgiMj"
      }
    },
    {
      "cell_type": "code",
      "source": [
        "model.compile(optimizer = Adam(learning_rate=0.001), loss='mae', metrics=['accuracy'])\n",
        "history = model.fit(train_x, train_y, epochs=50,  validation_data =(test_x,test_y))"
      ],
      "metadata": {
        "colab": {
          "base_uri": "https://localhost:8080/"
        },
        "id": "LcBhaepQggYI",
        "outputId": "ef30b4cd-5577-4b03-fe46-b50c87497813"
      },
      "execution_count": 19,
      "outputs": [
        {
          "output_type": "stream",
          "name": "stdout",
          "text": [
            "Epoch 1/50\n",
            "130/130 [==============================] - 1s 4ms/step - loss: 2.1696 - accuracy: 0.9790 - val_loss: 1.8312 - val_accuracy: 0.9797\n",
            "Epoch 2/50\n",
            "130/130 [==============================] - 0s 3ms/step - loss: 1.9089 - accuracy: 0.9812 - val_loss: 1.6409 - val_accuracy: 0.9769\n",
            "Epoch 3/50\n",
            "130/130 [==============================] - 0s 3ms/step - loss: 2.0013 - accuracy: 0.9788 - val_loss: 2.0210 - val_accuracy: 0.9749\n",
            "Epoch 4/50\n",
            "130/130 [==============================] - 0s 3ms/step - loss: 2.0211 - accuracy: 0.9788 - val_loss: 1.8352 - val_accuracy: 0.9807\n",
            "Epoch 5/50\n",
            "130/130 [==============================] - 0s 3ms/step - loss: 2.0952 - accuracy: 0.9790 - val_loss: 1.5802 - val_accuracy: 0.9846\n",
            "Epoch 6/50\n",
            "130/130 [==============================] - 0s 3ms/step - loss: 1.9008 - accuracy: 0.9822 - val_loss: 2.1038 - val_accuracy: 0.9788\n",
            "Epoch 7/50\n",
            "130/130 [==============================] - 0s 3ms/step - loss: 1.9351 - accuracy: 0.9797 - val_loss: 2.2559 - val_accuracy: 0.9749\n",
            "Epoch 8/50\n",
            "130/130 [==============================] - 0s 3ms/step - loss: 1.9621 - accuracy: 0.9819 - val_loss: 1.9469 - val_accuracy: 0.9788\n",
            "Epoch 9/50\n",
            "130/130 [==============================] - 0s 3ms/step - loss: 1.8557 - accuracy: 0.9836 - val_loss: 1.6358 - val_accuracy: 0.9778\n",
            "Epoch 10/50\n",
            "130/130 [==============================] - 0s 3ms/step - loss: 2.0891 - accuracy: 0.9797 - val_loss: 1.7541 - val_accuracy: 0.9740\n",
            "Epoch 11/50\n",
            "130/130 [==============================] - 0s 3ms/step - loss: 1.8724 - accuracy: 0.9814 - val_loss: 1.6984 - val_accuracy: 0.9778\n",
            "Epoch 12/50\n",
            "130/130 [==============================] - 0s 3ms/step - loss: 2.0104 - accuracy: 0.9805 - val_loss: 1.7873 - val_accuracy: 0.9749\n",
            "Epoch 13/50\n",
            "130/130 [==============================] - 0s 3ms/step - loss: 2.0283 - accuracy: 0.9814 - val_loss: 1.8760 - val_accuracy: 0.9769\n",
            "Epoch 14/50\n",
            "130/130 [==============================] - 0s 3ms/step - loss: 2.1792 - accuracy: 0.9812 - val_loss: 1.8585 - val_accuracy: 0.9769\n",
            "Epoch 15/50\n",
            "130/130 [==============================] - 0s 3ms/step - loss: 1.9337 - accuracy: 0.9795 - val_loss: 1.8702 - val_accuracy: 0.9846\n",
            "Epoch 16/50\n",
            "130/130 [==============================] - 0s 3ms/step - loss: 1.9176 - accuracy: 0.9797 - val_loss: 1.4570 - val_accuracy: 0.9807\n",
            "Epoch 17/50\n",
            "130/130 [==============================] - 0s 3ms/step - loss: 1.9988 - accuracy: 0.9805 - val_loss: 1.9335 - val_accuracy: 0.9788\n",
            "Epoch 18/50\n",
            "130/130 [==============================] - 0s 3ms/step - loss: 1.9677 - accuracy: 0.9836 - val_loss: 1.8526 - val_accuracy: 0.9749\n",
            "Epoch 19/50\n",
            "130/130 [==============================] - 0s 3ms/step - loss: 1.8930 - accuracy: 0.9793 - val_loss: 1.6162 - val_accuracy: 0.9759\n",
            "Epoch 20/50\n",
            "130/130 [==============================] - 0s 3ms/step - loss: 1.9946 - accuracy: 0.9807 - val_loss: 1.7301 - val_accuracy: 0.9643\n",
            "Epoch 21/50\n",
            "130/130 [==============================] - 0s 3ms/step - loss: 1.9590 - accuracy: 0.9788 - val_loss: 1.5930 - val_accuracy: 0.9797\n",
            "Epoch 22/50\n",
            "130/130 [==============================] - 0s 3ms/step - loss: 2.0328 - accuracy: 0.9826 - val_loss: 1.6398 - val_accuracy: 0.9797\n",
            "Epoch 23/50\n",
            "130/130 [==============================] - 0s 3ms/step - loss: 1.8542 - accuracy: 0.9817 - val_loss: 2.3132 - val_accuracy: 0.9749\n",
            "Epoch 24/50\n",
            "130/130 [==============================] - 0s 3ms/step - loss: 2.0151 - accuracy: 0.9809 - val_loss: 1.8066 - val_accuracy: 0.9769\n",
            "Epoch 25/50\n",
            "130/130 [==============================] - 0s 3ms/step - loss: 1.9169 - accuracy: 0.9817 - val_loss: 1.8698 - val_accuracy: 0.9807\n",
            "Epoch 26/50\n",
            "130/130 [==============================] - 0s 3ms/step - loss: 1.9660 - accuracy: 0.9824 - val_loss: 2.1220 - val_accuracy: 0.9624\n",
            "Epoch 27/50\n",
            "130/130 [==============================] - 0s 3ms/step - loss: 2.0099 - accuracy: 0.9776 - val_loss: 1.6305 - val_accuracy: 0.9807\n",
            "Epoch 28/50\n",
            "130/130 [==============================] - 0s 3ms/step - loss: 1.9430 - accuracy: 0.9795 - val_loss: 2.1476 - val_accuracy: 0.9788\n",
            "Epoch 29/50\n",
            "130/130 [==============================] - 0s 3ms/step - loss: 1.9972 - accuracy: 0.9822 - val_loss: 1.7452 - val_accuracy: 0.9740\n",
            "Epoch 30/50\n",
            "130/130 [==============================] - 0s 3ms/step - loss: 1.9026 - accuracy: 0.9824 - val_loss: 2.1383 - val_accuracy: 0.9826\n",
            "Epoch 31/50\n",
            "130/130 [==============================] - 0s 3ms/step - loss: 1.9354 - accuracy: 0.9848 - val_loss: 2.1136 - val_accuracy: 0.9797\n",
            "Epoch 32/50\n",
            "130/130 [==============================] - 0s 3ms/step - loss: 1.9900 - accuracy: 0.9829 - val_loss: 1.8758 - val_accuracy: 0.9759\n",
            "Epoch 33/50\n",
            "130/130 [==============================] - 0s 3ms/step - loss: 1.9619 - accuracy: 0.9805 - val_loss: 1.6876 - val_accuracy: 0.9836\n",
            "Epoch 34/50\n",
            "130/130 [==============================] - 0s 3ms/step - loss: 2.0181 - accuracy: 0.9812 - val_loss: 1.6747 - val_accuracy: 0.9769\n",
            "Epoch 35/50\n",
            "130/130 [==============================] - 0s 3ms/step - loss: 1.8547 - accuracy: 0.9822 - val_loss: 1.8151 - val_accuracy: 0.9778\n",
            "Epoch 36/50\n",
            "130/130 [==============================] - 0s 3ms/step - loss: 1.9675 - accuracy: 0.9829 - val_loss: 2.2533 - val_accuracy: 0.9691\n",
            "Epoch 37/50\n",
            "130/130 [==============================] - 0s 3ms/step - loss: 1.9634 - accuracy: 0.9843 - val_loss: 1.6414 - val_accuracy: 0.9826\n",
            "Epoch 38/50\n",
            "130/130 [==============================] - 0s 3ms/step - loss: 1.9402 - accuracy: 0.9807 - val_loss: 2.3380 - val_accuracy: 0.9682\n",
            "Epoch 39/50\n",
            "130/130 [==============================] - 0s 3ms/step - loss: 1.9447 - accuracy: 0.9793 - val_loss: 1.8227 - val_accuracy: 0.9740\n",
            "Epoch 40/50\n",
            "130/130 [==============================] - 0s 3ms/step - loss: 1.8812 - accuracy: 0.9795 - val_loss: 1.6488 - val_accuracy: 0.9788\n",
            "Epoch 41/50\n",
            "130/130 [==============================] - 0s 4ms/step - loss: 2.0068 - accuracy: 0.9812 - val_loss: 1.9761 - val_accuracy: 0.9826\n",
            "Epoch 42/50\n",
            "130/130 [==============================] - 0s 3ms/step - loss: 1.9594 - accuracy: 0.9822 - val_loss: 1.5369 - val_accuracy: 0.9797\n",
            "Epoch 43/50\n",
            "130/130 [==============================] - 0s 3ms/step - loss: 1.9064 - accuracy: 0.9814 - val_loss: 1.8427 - val_accuracy: 0.9720\n",
            "Epoch 44/50\n",
            "130/130 [==============================] - 0s 3ms/step - loss: 1.9779 - accuracy: 0.9814 - val_loss: 1.6309 - val_accuracy: 0.9807\n",
            "Epoch 45/50\n",
            "130/130 [==============================] - 0s 3ms/step - loss: 1.8778 - accuracy: 0.9848 - val_loss: 1.8318 - val_accuracy: 0.9682\n",
            "Epoch 46/50\n",
            "130/130 [==============================] - 0s 3ms/step - loss: 1.9253 - accuracy: 0.9841 - val_loss: 2.4599 - val_accuracy: 0.9720\n",
            "Epoch 47/50\n",
            "130/130 [==============================] - 0s 3ms/step - loss: 2.0302 - accuracy: 0.9817 - val_loss: 1.9817 - val_accuracy: 0.9701\n",
            "Epoch 48/50\n",
            "130/130 [==============================] - 0s 3ms/step - loss: 1.8943 - accuracy: 0.9805 - val_loss: 1.7594 - val_accuracy: 0.9836\n",
            "Epoch 49/50\n",
            "130/130 [==============================] - 0s 3ms/step - loss: 1.9712 - accuracy: 0.9790 - val_loss: 2.0987 - val_accuracy: 0.9749\n",
            "Epoch 50/50\n",
            "130/130 [==============================] - 0s 3ms/step - loss: 1.9506 - accuracy: 0.9819 - val_loss: 1.8652 - val_accuracy: 0.9797\n"
          ]
        }
      ]
    },
    {
      "cell_type": "markdown",
      "source": [
        "saving the model and getting the summary\n"
      ],
      "metadata": {
        "id": "O0PGrjvOgtQP"
      }
    },
    {
      "cell_type": "code",
      "source": [
        "model.summary()\n",
        "model.save(r'model.h5')"
      ],
      "metadata": {
        "colab": {
          "base_uri": "https://localhost:8080/"
        },
        "id": "FI2W_aqkgjc-",
        "outputId": "dc40b08a-a53f-4e4b-cf9f-b1e8762e6598"
      },
      "execution_count": 20,
      "outputs": [
        {
          "output_type": "stream",
          "name": "stdout",
          "text": [
            "Model: \"sequential\"\n",
            "_________________________________________________________________\n",
            " Layer (type)                Output Shape              Param #   \n",
            "=================================================================\n",
            " dense (Dense)               (None, 256)               768       \n",
            "                                                                 \n",
            " dense_1 (Dense)             (None, 128)               32896     \n",
            "                                                                 \n",
            " dense_2 (Dense)             (None, 128)               16512     \n",
            "                                                                 \n",
            " dense_3 (Dense)             (None, 2)                 258       \n",
            "                                                                 \n",
            "=================================================================\n",
            "Total params: 50,434\n",
            "Trainable params: 50,434\n",
            "Non-trainable params: 0\n",
            "_________________________________________________________________\n"
          ]
        }
      ]
    },
    {
      "cell_type": "markdown",
      "source": [
        "Doing some predictions for our cartesian robot Arm"
      ],
      "metadata": {
        "id": "fzY3vlMngxGB"
      }
    },
    {
      "cell_type": "code",
      "source": [
        "print(\"x,y\",model.predict([[-5,5]]))"
      ],
      "metadata": {
        "colab": {
          "base_uri": "https://localhost:8080/"
        },
        "id": "hEfp2XEsgvAI",
        "outputId": "bc1cadc7-cb2b-4727-eaeb-2105787d74e2"
      },
      "execution_count": 21,
      "outputs": [
        {
          "output_type": "stream",
          "name": "stdout",
          "text": [
            "x,y [[89.97405 89.95635]]\n"
          ]
        }
      ]
    },
    {
      "cell_type": "markdown",
      "source": [
        "Next we can tune our model and expand it to be able to work on 3 and 4 degree of freedom robot arms"
      ],
      "metadata": {
        "id": "fXdlGkfJh0IJ"
      }
    },
    {
      "cell_type": "code",
      "source": [
        ""
      ],
      "metadata": {
        "id": "iTlT3v57hfAt"
      },
      "execution_count": null,
      "outputs": []
    }
  ]
}